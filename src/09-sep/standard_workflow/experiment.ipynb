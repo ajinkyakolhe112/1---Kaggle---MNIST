{
 "cells": [
  {
   "cell_type": "code",
   "execution_count": 1,
   "metadata": {},
   "outputs": [
    {
     "name": "stdout",
     "output_type": "stream",
     "text": [
      "/workspaces/Kaggle-MNIST-competition/src/09-sep/standard_workflow\n"
     ]
    }
   ],
   "source": [
    "from a_dataset          import get_datasets\n",
    "from b_dataloader       import get_dataloaders\n",
    "from c_model            import Baseline_NN\n",
    "from d_training_loop    import NN_Training_Loop\n",
    "#from e_callbacks        import CustomCallback  \n",
    "\n",
    "%load_ext autoreload\n",
    "%autoreload 2"
   ]
  },
  {
   "cell_type": "code",
   "execution_count": 2,
   "metadata": {},
   "outputs": [
    {
     "name": "stderr",
     "output_type": "stream",
     "text": [
      "GPU available: False, used: False\n",
      "TPU available: False, using: 0 TPU cores\n",
      "IPU available: False, using: 0 IPUs\n",
      "HPU available: False, using: 0 HPUs\n"
     ]
    }
   ],
   "source": [
    "from lightning.pytorch.loggers.tensorboard import TensorBoardLogger\n",
    "from lightning.pytorch import Trainer\n",
    "\n",
    "experiment = \"end-to-end-pipeline\"\n",
    "experiment_logger  = TensorBoardLogger(save_dir=\"lightning_logs\", name= experiment, version=\"v2_\")\n",
    "\n",
    "trainer = Trainer(max_epochs=10, logger= experiment_logger, callbacks = [] )"
   ]
  },
  {
   "cell_type": "code",
   "execution_count": 3,
   "metadata": {},
   "outputs": [
    {
     "name": "stderr",
     "output_type": "stream",
     "text": [
      "\u001b[32m2023-09-09 05:15:21.445\u001b[0m | \u001b[34m\u001b[1mDEBUG   \u001b[0m | \u001b[36ma_dataset\u001b[0m:\u001b[36mget_datasets\u001b[0m:\u001b[36m14\u001b[0m - \u001b[34m\u001b[1mNone\u001b[0m\n"
     ]
    },
    {
     "name": "stdout",
     "output_type": "stream",
     "text": [
      "<class 'pandas.core.frame.DataFrame'>\n",
      "RangeIndex: 42000 entries, 0 to 41999\n",
      "Columns: 785 entries, label to pixel783\n",
      "dtypes: int64(785)\n",
      "memory usage: 251.5 MB\n"
     ]
    },
    {
     "name": "stderr",
     "output_type": "stream",
     "text": [
      "\u001b[32m2023-09-09 05:15:21.886\u001b[0m | \u001b[34m\u001b[1mDEBUG   \u001b[0m | \u001b[36ma_dataset\u001b[0m:\u001b[36mget_datasets\u001b[0m:\u001b[36m25\u001b[0m - \u001b[34m\u001b[1mtorch.Size([42000, 784])torch.Size([42000])\u001b[0m\n",
      "\u001b[32m2023-09-09 05:15:21.912\u001b[0m | \u001b[34m\u001b[1mDEBUG   \u001b[0m | \u001b[36ma_dataset\u001b[0m:\u001b[36mget_datasets\u001b[0m:\u001b[36m39\u001b[0m - \u001b[34m\u001b[1mX_train[0] = torch.Size([28, 28, 1]), Y_train[0] = torch.Size([10])\u001b[0m\n",
      "\u001b[32m2023-09-09 05:15:21.912\u001b[0m | \u001b[34m\u001b[1mDEBUG   \u001b[0m | \u001b[36ma_dataset\u001b[0m:\u001b[36mget_datasets\u001b[0m:\u001b[36m40\u001b[0m - \u001b[34m\u001b[1mX_test[0] = torch.Size([28, 28, 1])\u001b[0m\n"
     ]
    }
   ],
   "source": [
    "train_dataset, test_dataset = get_datasets()\n",
    "train_loader, val_loader, test_loader = get_dataloaders(train_dataset, test_dataset)"
   ]
  },
  {
   "cell_type": "code",
   "execution_count": 4,
   "metadata": {},
   "outputs": [],
   "source": [
    "model             = Baseline_NN()\n",
    "lightning_module  = NN_Training_Loop(model)"
   ]
  },
  {
   "cell_type": "code",
   "execution_count": 5,
   "metadata": {},
   "outputs": [
    {
     "name": "stderr",
     "output_type": "stream",
     "text": [
      "/home/codespace/.python/current/lib/python3.10/site-packages/lightning/pytorch/callbacks/model_checkpoint.py:617: UserWarning: Checkpoint directory lightning_logs/end-to-end-pipeline/v2_/checkpoints exists and is not empty.\n",
      "  rank_zero_warn(f\"Checkpoint directory {dirpath} exists and is not empty.\")\n",
      "\n",
      "  | Name     | Type               | Params\n",
      "------------------------------------------------\n",
      "0 | model    | Baseline_NN        | 4.0 K \n",
      "1 | accuracy | MulticlassAccuracy | 0     \n",
      "------------------------------------------------\n",
      "4.0 K     Trainable params\n",
      "0         Non-trainable params\n",
      "4.0 K     Total params\n",
      "0.016     Total estimated model params size (MB)\n"
     ]
    },
    {
     "name": "stdout",
     "output_type": "stream",
     "text": [
      "                                                                            "
     ]
    },
    {
     "name": "stderr",
     "output_type": "stream",
     "text": [
      "/home/codespace/.python/current/lib/python3.10/site-packages/lightning/pytorch/trainer/connectors/data_connector.py:490: PossibleUserWarning: Your `val_dataloader`'s sampler has shuffling enabled, it is strongly recommended that you turn shuffling off for val/test dataloaders.\n",
      "  rank_zero_warn(\n"
     ]
    },
    {
     "name": "stdout",
     "output_type": "stream",
     "text": [
      "Epoch 9: 100%|██████████| 919/919 [00:06<00:00, 151.89it/s, v_num=v2_, loss=-4.65e+12, train_acc_step=0.0875]"
     ]
    },
    {
     "name": "stderr",
     "output_type": "stream",
     "text": [
      "`Trainer.fit` stopped: `max_epochs=10` reached.\n"
     ]
    },
    {
     "name": "stdout",
     "output_type": "stream",
     "text": [
      "Epoch 9: 100%|██████████| 919/919 [00:06<00:00, 151.76it/s, v_num=v2_, loss=-4.65e+12, train_acc_step=0.0875]\n"
     ]
    }
   ],
   "source": [
    "trainer.fit( lightning_module, train_loader, val_loader  )"
   ]
  },
  {
   "cell_type": "code",
   "execution_count": 6,
   "metadata": {},
   "outputs": [
    {
     "data": {
      "text/plain": [
       "['Baseline_NN',\n",
       " 'In',\n",
       " 'NN_Training_Loop',\n",
       " 'Out',\n",
       " 'TensorBoardLogger',\n",
       " 'Trainer',\n",
       " '_',\n",
       " '__',\n",
       " '___',\n",
       " '__builtin__',\n",
       " '__builtins__',\n",
       " '__doc__',\n",
       " '__loader__',\n",
       " '__name__',\n",
       " '__package__',\n",
       " '__spec__',\n",
       " '__vsc_ipynb_file__',\n",
       " '_dh',\n",
       " '_i',\n",
       " '_i1',\n",
       " '_i2',\n",
       " '_i3',\n",
       " '_i4',\n",
       " '_i5',\n",
       " '_i6',\n",
       " '_ih',\n",
       " '_ii',\n",
       " '_iii',\n",
       " '_oh',\n",
       " 'exit',\n",
       " 'experiment',\n",
       " 'experiment_logger',\n",
       " 'get_dataloaders',\n",
       " 'get_datasets',\n",
       " 'get_ipython',\n",
       " 'lightning_module',\n",
       " 'model',\n",
       " 'open',\n",
       " 'quit',\n",
       " 'test_dataset',\n",
       " 'test_loader',\n",
       " 'train_dataset',\n",
       " 'train_loader',\n",
       " 'trainer',\n",
       " 'val_loader']"
      ]
     },
     "execution_count": 6,
     "metadata": {},
     "output_type": "execute_result"
    }
   ],
   "source": [
    "dir()"
   ]
  },
  {
   "cell_type": "code",
   "execution_count": null,
   "metadata": {},
   "outputs": [],
   "source": []
  }
 ],
 "metadata": {
  "kernelspec": {
   "display_name": "base",
   "language": "python",
   "name": "python3"
  },
  "language_info": {
   "codemirror_mode": {
    "name": "ipython",
    "version": 3
   },
   "file_extension": ".py",
   "mimetype": "text/x-python",
   "name": "python",
   "nbconvert_exporter": "python",
   "pygments_lexer": "ipython3",
   "version": "3.10.8"
  },
  "orig_nbformat": 4
 },
 "nbformat": 4,
 "nbformat_minor": 2
}
