{
 "cells": [
  {
   "cell_type": "code",
   "execution_count": 1,
   "metadata": {},
   "outputs": [],
   "source": [
    "from a_datasets import get_datasets\n",
    "from b_dataloader import get_dataloaders\n",
    "from c_lightning_module import get_lightning_module\n",
    "from d_trainer import get_trainer\n",
    "from models.baseline import Baseline_NN\n",
    "\n",
    "%load_ext autoreload\n",
    "%autoreload 2"
   ]
  },
  {
   "cell_type": "code",
   "execution_count": 2,
   "metadata": {},
   "outputs": [
    {
     "name": "stderr",
     "output_type": "stream",
     "text": [
      "2023-08-10 20:18:55.693 | DEBUG    | a_datasets:get_datasets:11 - None\n"
     ]
    },
    {
     "name": "stdout",
     "output_type": "stream",
     "text": [
      "<class 'pandas.core.frame.DataFrame'>\n",
      "RangeIndex: 42000 entries, 0 to 41999\n",
      "Columns: 785 entries, label to pixel783\n",
      "dtypes: int64(785)\n",
      "memory usage: 251.5 MB\n"
     ]
    },
    {
     "ename": "AttributeError",
     "evalue": "'Tensor' object has no attribute 'IntTensor'",
     "output_type": "error",
     "traceback": [
      "\u001b[0;31m---------------------------------------------------------------------------\u001b[0m",
      "\u001b[0;31mAttributeError\u001b[0m                            Traceback (most recent call last)",
      "Cell \u001b[0;32mIn[2], line 1\u001b[0m\n\u001b[0;32m----> 1\u001b[0m train_data, test_data \u001b[39m=\u001b[39m get_datasets()\n\u001b[1;32m      2\u001b[0m train_loader, val_loader, test_loader \u001b[39m=\u001b[39m get_dataloaders()\n\u001b[1;32m      3\u001b[0m trainer \u001b[39m=\u001b[39m get_trainer()\n",
      "File \u001b[0;32m~/Documents/Visual Studio Code/0_PROJECTS/2 - Kaggle Competitions/1. MNIST/10 aug/a_datasets.py:22\u001b[0m, in \u001b[0;36mget_datasets\u001b[0;34m()\u001b[0m\n\u001b[1;32m     19\u001b[0m X,y \u001b[39m=\u001b[39m torch\u001b[39m.\u001b[39mtensor(X, dtype\u001b[39m=\u001b[39mtorch\u001b[39m.\u001b[39mfloat32, requires_grad\u001b[39m=\u001b[39m\u001b[39mFalse\u001b[39;00m), torch\u001b[39m.\u001b[39mtensor(y, dtype\u001b[39m=\u001b[39mtorch\u001b[39m.\u001b[39mfloat32, requires_grad\u001b[39m=\u001b[39m\u001b[39mFalse\u001b[39;00m)\n\u001b[1;32m     21\u001b[0m X \u001b[39m=\u001b[39m X\u001b[39m.\u001b[39mreshape(\u001b[39m-\u001b[39m\u001b[39m1\u001b[39m,\u001b[39m28\u001b[39m,\u001b[39m28\u001b[39m,\u001b[39m1\u001b[39m)\n\u001b[0;32m---> 22\u001b[0m Y \u001b[39m=\u001b[39m torch\u001b[39m.\u001b[39mnn\u001b[39m.\u001b[39mfunctional\u001b[39m.\u001b[39mone_hot(y\u001b[39m.\u001b[39;49mIntTensor(), \u001b[39m10\u001b[39m) \u001b[39m# one hot expects, datatype of y to be torch.int64.\u001b[39;00m\n\u001b[1;32m     23\u001b[0m \u001b[39m# Y = torch.tensor(Y, dtype=torch.float32) \u001b[39;00m\n\u001b[1;32m     25\u001b[0m test_data_X \u001b[39m=\u001b[39m test_df\u001b[39m.\u001b[39mto_numpy()\n",
      "\u001b[0;31mAttributeError\u001b[0m: 'Tensor' object has no attribute 'IntTensor'"
     ]
    }
   ],
   "source": [
    "train_data, test_data = get_datasets()\n",
    "train_loader, val_loader, test_loader = get_dataloaders()\n",
    "trainer = get_trainer()\n",
    "\n",
    "model = Baseline_NN()\n",
    "lightning_model = get_lightning_module(model)"
   ]
  },
  {
   "cell_type": "code",
   "execution_count": null,
   "metadata": {},
   "outputs": [],
   "source": [
    "trainer.fit(lightning_model, train_loader, val_loader)"
   ]
  }
 ],
 "metadata": {
  "kernelspec": {
   "display_name": "base",
   "language": "python",
   "name": "python3"
  },
  "language_info": {
   "codemirror_mode": {
    "name": "ipython",
    "version": 3
   },
   "file_extension": ".py",
   "mimetype": "text/x-python",
   "name": "python",
   "nbconvert_exporter": "python",
   "pygments_lexer": "ipython3",
   "version": "3.9.13"
  },
  "orig_nbformat": 4
 },
 "nbformat": 4,
 "nbformat_minor": 2
}
